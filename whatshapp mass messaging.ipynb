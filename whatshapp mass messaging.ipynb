{
 "cells": [
  {
   "cell_type": "code",
   "execution_count": null,
   "metadata": {},
   "outputs": [],
   "source": [
    "import pandas as pd\n",
    "import pywhatkit as pw\n",
    "import pyautogui\n",
    "import time\n",
    "\n",
    "# Load the Excel file\n",
    "df = pd.read_excel(r\"path to excel file containing phone numbers\", dtype={\"Phone Number\": str})  # Ensure numbers are strings\n",
    " \n",
    "# Loop through phone numbers and send messages\n",
    "for number in df[\"Phone Number\"]:\n",
    "    try:\n",
    "        \n",
    "        number = \"+91\" + number.strip()  # Add country code (change if needed)\n",
    "        pw.sendwhatmsg_instantly(number, \"https://chat.whatsapp.com/GIhb44swj54IIo33jNIwis  All of you who have yet not joined the group for MUN selection, join this group  ASAP\", wait_time=10)\n",
    "        time.sleep(5)  # Wait for WhatsApp Web to open\n",
    "        pyautogui.press(\"enter\")  # Press Enter to send the message\n",
    "        print(f\"Message sent to {number}\")\n",
    "        time.sleep(2)  # Small delay before next message\n",
    "    except Exception as e:\n",
    "        print(f\"Failed to send message to {number}: {e}\")\n"
   ]
  }
 ],
 "metadata": {
  "kernelspec": {
   "display_name": "Python 3",
   "language": "python",
   "name": "python3"
  },
  "language_info": {
   "codemirror_mode": {
    "name": "ipython",
    "version": 3
   },
   "file_extension": ".py",
   "mimetype": "text/x-python",
   "name": "python",
   "nbconvert_exporter": "python",
   "pygments_lexer": "ipython3",
   "version": "3.11.9"
  }
 },
 "nbformat": 4,
 "nbformat_minor": 2
}
